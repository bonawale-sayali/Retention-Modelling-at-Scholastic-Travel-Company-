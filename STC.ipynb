{
  "nbformat": 4,
  "nbformat_minor": 0,
  "metadata": {
    "colab": {
      "provenance": []
    },
    "kernelspec": {
      "name": "python3",
      "display_name": "Python 3"
    },
    "language_info": {
      "name": "python"
    }
  },
  "cells": [
    {
      "cell_type": "markdown",
      "source": [
        "Loading ML libraries"
      ],
      "metadata": {
        "id": "vojK5LLIQVMf"
      }
    },
    {
      "cell_type": "code",
      "execution_count": 1,
      "metadata": {
        "id": "_R1qtxsfycgi"
      },
      "outputs": [],
      "source": [
        "import pandas as pd\n",
        "import numpy as np\n",
        "import matplotlib.pyplot as plt\n",
        "from sklearn import preprocessing\n",
        "from sklearn.impute import SimpleImputer\n",
        "from sklearn.model_selection import train_test_split\n",
        "from sklearn.metrics import roc_curve, auc, roc_auc_score, classification_report,confusion_matrix, make_scorer\n",
        "from sklearn.tree import DecisionTreeClassifier\n",
        "from sklearn.ensemble import RandomForestClassifier\n",
        "import seaborn as sns\n",
        "%matplotlib inline"
      ]
    },
    {
      "cell_type": "code",
      "source": [
        "from google.colab import drive\n",
        "drive.mount(\"/content/drive\")"
      ],
      "metadata": {
        "colab": {
          "base_uri": "https://localhost:8080/"
        },
        "id": "K_zTXWfOV_tG",
        "outputId": "bd48a655-041a-4cb8-9948-834a786fc53d"
      },
      "execution_count": 2,
      "outputs": [
        {
          "output_type": "stream",
          "name": "stdout",
          "text": [
            "Mounted at /content/drive\n"
          ]
        }
      ]
    },
    {
      "cell_type": "code",
      "source": [
        "%cd /content/drive/MyDrive/Big_Data_Assignment/Scholastic Travel Company"
      ],
      "metadata": {
        "colab": {
          "base_uri": "https://localhost:8080/"
        },
        "id": "tfin6qTaWAbe",
        "outputId": "4c0c8ab7-74ba-4791-a479-41c9aedbddb9"
      },
      "execution_count": 3,
      "outputs": [
        {
          "output_type": "stream",
          "name": "stdout",
          "text": [
            "/content/drive/MyDrive/Big_Data_Assignment/Scholastic Travel Company\n"
          ]
        }
      ]
    },
    {
      "cell_type": "markdown",
      "source": [
        "Loading the dataset"
      ],
      "metadata": {
        "id": "ilMor2jlVtmc"
      }
    },
    {
      "cell_type": "code",
      "source": [
        "df = pd.read_excel('/content/drive/MyDrive/Big_Data_Assignment/Scholastic Travel Company/Practice Scholastic Travel.xlsx')"
      ],
      "metadata": {
        "id": "ZF6SAB2_Vx6B"
      },
      "execution_count": 82,
      "outputs": []
    },
    {
      "cell_type": "code",
      "source": [
        "df.head()"
      ],
      "metadata": {
        "id": "vviVPiFZXC1r",
        "colab": {
          "base_uri": "https://localhost:8080/",
          "height": 317
        },
        "outputId": "c08e9613-e9ec-4e87-bf63-8fb393c5667b"
      },
      "execution_count": 5,
      "outputs": [
        {
          "output_type": "execute_result",
          "data": {
            "text/plain": [
              "    ID Program.Code  From.Grade  To.Grade Group.State  Is.Non.Annual.  Days  \\\n",
              "0  1.0           HS         4.0       4.0          CA             0.0   1.0   \n",
              "1  2.0           HC         8.0       8.0          AZ             0.0   7.0   \n",
              "2  3.0           HD         8.0       8.0          FL             0.0   3.0   \n",
              "3  4.0           HN         9.0      12.0          VA             1.0   3.0   \n",
              "4  5.0           HD         6.0       8.0          FL             0.0   6.0   \n",
              "\n",
              "  Travel.Type Departure.Date Return.Date  ... GroupGradeTypeLow  \\\n",
              "0           A     2011-01-14  2011-01-14  ...                 K   \n",
              "1           A     2011-01-14  2011-01-21  ...            Middle   \n",
              "2           A     2011-01-15  2011-01-17  ...            Middle   \n",
              "3           B     2011-01-15  2011-01-17  ...         Undefined   \n",
              "4           T     2011-01-16  2011-01-21  ...            Middle   \n",
              "\n",
              "  GroupGradeTypeHigh        GroupGradeType  MajorProgramCode  \\\n",
              "0         Elementary         K->Elementary                 H   \n",
              "1             Middle        Middle->Middle                 H   \n",
              "2             Middle        Middle->Middle                 H   \n",
              "3          Undefined  Undefined->Undefined                 H   \n",
              "4             Middle        Middle->Middle                 H   \n",
              "\n",
              "   SingleGradeTripFlag  FPP.to.School.enrollment FPP.to.PAX  \\\n",
              "0                  1.0                  0.063646   0.936508   \n",
              "1                  1.0                  0.025882   0.880000   \n",
              "2                  1.0                  0.025131   0.888889   \n",
              "3                  0.0                       NaN   1.000000   \n",
              "4                  0.0                  0.112500   0.910112   \n",
              "\n",
              "  Num.of.Non_FPP.PAX  SchoolSizeIndicator  Retained.in.2012.  \n",
              "0                4.0                    L                1.0  \n",
              "1                3.0                    L                1.0  \n",
              "2                3.0                    L                1.0  \n",
              "3                0.0                  NaN                0.0  \n",
              "4                8.0                  M-L                0.0  \n",
              "\n",
              "[5 rows x 56 columns]"
            ],
            "text/html": [
              "\n",
              "  <div id=\"df-fd9b23d2-ebc9-4de9-8e62-3e3acf5199f1\">\n",
              "    <div class=\"colab-df-container\">\n",
              "      <div>\n",
              "<style scoped>\n",
              "    .dataframe tbody tr th:only-of-type {\n",
              "        vertical-align: middle;\n",
              "    }\n",
              "\n",
              "    .dataframe tbody tr th {\n",
              "        vertical-align: top;\n",
              "    }\n",
              "\n",
              "    .dataframe thead th {\n",
              "        text-align: right;\n",
              "    }\n",
              "</style>\n",
              "<table border=\"1\" class=\"dataframe\">\n",
              "  <thead>\n",
              "    <tr style=\"text-align: right;\">\n",
              "      <th></th>\n",
              "      <th>ID</th>\n",
              "      <th>Program.Code</th>\n",
              "      <th>From.Grade</th>\n",
              "      <th>To.Grade</th>\n",
              "      <th>Group.State</th>\n",
              "      <th>Is.Non.Annual.</th>\n",
              "      <th>Days</th>\n",
              "      <th>Travel.Type</th>\n",
              "      <th>Departure.Date</th>\n",
              "      <th>Return.Date</th>\n",
              "      <th>...</th>\n",
              "      <th>GroupGradeTypeLow</th>\n",
              "      <th>GroupGradeTypeHigh</th>\n",
              "      <th>GroupGradeType</th>\n",
              "      <th>MajorProgramCode</th>\n",
              "      <th>SingleGradeTripFlag</th>\n",
              "      <th>FPP.to.School.enrollment</th>\n",
              "      <th>FPP.to.PAX</th>\n",
              "      <th>Num.of.Non_FPP.PAX</th>\n",
              "      <th>SchoolSizeIndicator</th>\n",
              "      <th>Retained.in.2012.</th>\n",
              "    </tr>\n",
              "  </thead>\n",
              "  <tbody>\n",
              "    <tr>\n",
              "      <th>0</th>\n",
              "      <td>1.0</td>\n",
              "      <td>HS</td>\n",
              "      <td>4.0</td>\n",
              "      <td>4.0</td>\n",
              "      <td>CA</td>\n",
              "      <td>0.0</td>\n",
              "      <td>1.0</td>\n",
              "      <td>A</td>\n",
              "      <td>2011-01-14</td>\n",
              "      <td>2011-01-14</td>\n",
              "      <td>...</td>\n",
              "      <td>K</td>\n",
              "      <td>Elementary</td>\n",
              "      <td>K-&gt;Elementary</td>\n",
              "      <td>H</td>\n",
              "      <td>1.0</td>\n",
              "      <td>0.063646</td>\n",
              "      <td>0.936508</td>\n",
              "      <td>4.0</td>\n",
              "      <td>L</td>\n",
              "      <td>1.0</td>\n",
              "    </tr>\n",
              "    <tr>\n",
              "      <th>1</th>\n",
              "      <td>2.0</td>\n",
              "      <td>HC</td>\n",
              "      <td>8.0</td>\n",
              "      <td>8.0</td>\n",
              "      <td>AZ</td>\n",
              "      <td>0.0</td>\n",
              "      <td>7.0</td>\n",
              "      <td>A</td>\n",
              "      <td>2011-01-14</td>\n",
              "      <td>2011-01-21</td>\n",
              "      <td>...</td>\n",
              "      <td>Middle</td>\n",
              "      <td>Middle</td>\n",
              "      <td>Middle-&gt;Middle</td>\n",
              "      <td>H</td>\n",
              "      <td>1.0</td>\n",
              "      <td>0.025882</td>\n",
              "      <td>0.880000</td>\n",
              "      <td>3.0</td>\n",
              "      <td>L</td>\n",
              "      <td>1.0</td>\n",
              "    </tr>\n",
              "    <tr>\n",
              "      <th>2</th>\n",
              "      <td>3.0</td>\n",
              "      <td>HD</td>\n",
              "      <td>8.0</td>\n",
              "      <td>8.0</td>\n",
              "      <td>FL</td>\n",
              "      <td>0.0</td>\n",
              "      <td>3.0</td>\n",
              "      <td>A</td>\n",
              "      <td>2011-01-15</td>\n",
              "      <td>2011-01-17</td>\n",
              "      <td>...</td>\n",
              "      <td>Middle</td>\n",
              "      <td>Middle</td>\n",
              "      <td>Middle-&gt;Middle</td>\n",
              "      <td>H</td>\n",
              "      <td>1.0</td>\n",
              "      <td>0.025131</td>\n",
              "      <td>0.888889</td>\n",
              "      <td>3.0</td>\n",
              "      <td>L</td>\n",
              "      <td>1.0</td>\n",
              "    </tr>\n",
              "    <tr>\n",
              "      <th>3</th>\n",
              "      <td>4.0</td>\n",
              "      <td>HN</td>\n",
              "      <td>9.0</td>\n",
              "      <td>12.0</td>\n",
              "      <td>VA</td>\n",
              "      <td>1.0</td>\n",
              "      <td>3.0</td>\n",
              "      <td>B</td>\n",
              "      <td>2011-01-15</td>\n",
              "      <td>2011-01-17</td>\n",
              "      <td>...</td>\n",
              "      <td>Undefined</td>\n",
              "      <td>Undefined</td>\n",
              "      <td>Undefined-&gt;Undefined</td>\n",
              "      <td>H</td>\n",
              "      <td>0.0</td>\n",
              "      <td>NaN</td>\n",
              "      <td>1.000000</td>\n",
              "      <td>0.0</td>\n",
              "      <td>NaN</td>\n",
              "      <td>0.0</td>\n",
              "    </tr>\n",
              "    <tr>\n",
              "      <th>4</th>\n",
              "      <td>5.0</td>\n",
              "      <td>HD</td>\n",
              "      <td>6.0</td>\n",
              "      <td>8.0</td>\n",
              "      <td>FL</td>\n",
              "      <td>0.0</td>\n",
              "      <td>6.0</td>\n",
              "      <td>T</td>\n",
              "      <td>2011-01-16</td>\n",
              "      <td>2011-01-21</td>\n",
              "      <td>...</td>\n",
              "      <td>Middle</td>\n",
              "      <td>Middle</td>\n",
              "      <td>Middle-&gt;Middle</td>\n",
              "      <td>H</td>\n",
              "      <td>0.0</td>\n",
              "      <td>0.112500</td>\n",
              "      <td>0.910112</td>\n",
              "      <td>8.0</td>\n",
              "      <td>M-L</td>\n",
              "      <td>0.0</td>\n",
              "    </tr>\n",
              "  </tbody>\n",
              "</table>\n",
              "<p>5 rows × 56 columns</p>\n",
              "</div>\n",
              "      <button class=\"colab-df-convert\" onclick=\"convertToInteractive('df-fd9b23d2-ebc9-4de9-8e62-3e3acf5199f1')\"\n",
              "              title=\"Convert this dataframe to an interactive table.\"\n",
              "              style=\"display:none;\">\n",
              "        \n",
              "  <svg xmlns=\"http://www.w3.org/2000/svg\" height=\"24px\"viewBox=\"0 0 24 24\"\n",
              "       width=\"24px\">\n",
              "    <path d=\"M0 0h24v24H0V0z\" fill=\"none\"/>\n",
              "    <path d=\"M18.56 5.44l.94 2.06.94-2.06 2.06-.94-2.06-.94-.94-2.06-.94 2.06-2.06.94zm-11 1L8.5 8.5l.94-2.06 2.06-.94-2.06-.94L8.5 2.5l-.94 2.06-2.06.94zm10 10l.94 2.06.94-2.06 2.06-.94-2.06-.94-.94-2.06-.94 2.06-2.06.94z\"/><path d=\"M17.41 7.96l-1.37-1.37c-.4-.4-.92-.59-1.43-.59-.52 0-1.04.2-1.43.59L10.3 9.45l-7.72 7.72c-.78.78-.78 2.05 0 2.83L4 21.41c.39.39.9.59 1.41.59.51 0 1.02-.2 1.41-.59l7.78-7.78 2.81-2.81c.8-.78.8-2.07 0-2.86zM5.41 20L4 18.59l7.72-7.72 1.47 1.35L5.41 20z\"/>\n",
              "  </svg>\n",
              "      </button>\n",
              "      \n",
              "  <style>\n",
              "    .colab-df-container {\n",
              "      display:flex;\n",
              "      flex-wrap:wrap;\n",
              "      gap: 12px;\n",
              "    }\n",
              "\n",
              "    .colab-df-convert {\n",
              "      background-color: #E8F0FE;\n",
              "      border: none;\n",
              "      border-radius: 50%;\n",
              "      cursor: pointer;\n",
              "      display: none;\n",
              "      fill: #1967D2;\n",
              "      height: 32px;\n",
              "      padding: 0 0 0 0;\n",
              "      width: 32px;\n",
              "    }\n",
              "\n",
              "    .colab-df-convert:hover {\n",
              "      background-color: #E2EBFA;\n",
              "      box-shadow: 0px 1px 2px rgba(60, 64, 67, 0.3), 0px 1px 3px 1px rgba(60, 64, 67, 0.15);\n",
              "      fill: #174EA6;\n",
              "    }\n",
              "\n",
              "    [theme=dark] .colab-df-convert {\n",
              "      background-color: #3B4455;\n",
              "      fill: #D2E3FC;\n",
              "    }\n",
              "\n",
              "    [theme=dark] .colab-df-convert:hover {\n",
              "      background-color: #434B5C;\n",
              "      box-shadow: 0px 1px 3px 1px rgba(0, 0, 0, 0.15);\n",
              "      filter: drop-shadow(0px 1px 2px rgba(0, 0, 0, 0.3));\n",
              "      fill: #FFFFFF;\n",
              "    }\n",
              "  </style>\n",
              "\n",
              "      <script>\n",
              "        const buttonEl =\n",
              "          document.querySelector('#df-fd9b23d2-ebc9-4de9-8e62-3e3acf5199f1 button.colab-df-convert');\n",
              "        buttonEl.style.display =\n",
              "          google.colab.kernel.accessAllowed ? 'block' : 'none';\n",
              "\n",
              "        async function convertToInteractive(key) {\n",
              "          const element = document.querySelector('#df-fd9b23d2-ebc9-4de9-8e62-3e3acf5199f1');\n",
              "          const dataTable =\n",
              "            await google.colab.kernel.invokeFunction('convertToInteractive',\n",
              "                                                     [key], {});\n",
              "          if (!dataTable) return;\n",
              "\n",
              "          const docLinkHtml = 'Like what you see? Visit the ' +\n",
              "            '<a target=\"_blank\" href=https://colab.research.google.com/notebooks/data_table.ipynb>data table notebook</a>'\n",
              "            + ' to learn more about interactive tables.';\n",
              "          element.innerHTML = '';\n",
              "          dataTable['output_type'] = 'display_data';\n",
              "          await google.colab.output.renderOutput(dataTable, element);\n",
              "          const docLink = document.createElement('div');\n",
              "          docLink.innerHTML = docLinkHtml;\n",
              "          element.appendChild(docLink);\n",
              "        }\n",
              "      </script>\n",
              "    </div>\n",
              "  </div>\n",
              "  "
            ]
          },
          "metadata": {},
          "execution_count": 5
        }
      ]
    },
    {
      "cell_type": "markdown",
      "source": [
        "Cleaning Data: Converting incorrect data types"
      ],
      "metadata": {
        "id": "yUVeoVEyXv4Q"
      }
    },
    {
      "cell_type": "code",
      "source": [
        "#Summary of the dataframe\n",
        "df.info()\n",
        "df.dtypes"
      ],
      "metadata": {
        "id": "S_fmvaiAXmLS",
        "colab": {
          "base_uri": "https://localhost:8080/"
        },
        "outputId": "1afc9601-3ec4-43e2-e8b6-0993bfc006d4"
      },
      "execution_count": 6,
      "outputs": [
        {
          "output_type": "stream",
          "name": "stdout",
          "text": [
            "<class 'pandas.core.frame.DataFrame'>\n",
            "RangeIndex: 2389 entries, 0 to 2388\n",
            "Data columns (total 56 columns):\n",
            " #   Column                          Non-Null Count  Dtype         \n",
            "---  ------                          --------------  -----         \n",
            " 0   ID                              2389 non-null   float64       \n",
            " 1   Program.Code                    2389 non-null   object        \n",
            " 2   From.Grade                      2262 non-null   float64       \n",
            " 3   To.Grade                        2239 non-null   float64       \n",
            " 4   Group.State                     2389 non-null   object        \n",
            " 5   Is.Non.Annual.                  2389 non-null   float64       \n",
            " 6   Days                            2389 non-null   float64       \n",
            " 7   Travel.Type                     2389 non-null   object        \n",
            " 8   Departure.Date                  2389 non-null   datetime64[ns]\n",
            " 9   Return.Date                     2389 non-null   datetime64[ns]\n",
            " 10  Deposit.Date                    2389 non-null   datetime64[ns]\n",
            " 11  Special.Pay                     470 non-null    object        \n",
            " 12  Tuition                         2389 non-null   float64       \n",
            " 13  FRP.Active                      2389 non-null   float64       \n",
            " 14  FRP.Cancelled                   2389 non-null   float64       \n",
            " 15  FRP.Take.up.percent.            2389 non-null   float64       \n",
            " 16  Early.RPL                       1716 non-null   datetime64[ns]\n",
            " 17  Latest.RPL                      2370 non-null   datetime64[ns]\n",
            " 18  Cancelled.Pax                   2389 non-null   float64       \n",
            " 19  Total.Discount.Pax              2389 non-null   float64       \n",
            " 20  Initial.System.Date             2381 non-null   datetime64[ns]\n",
            " 21  Poverty.Code                    1790 non-null   object        \n",
            " 22  Region                          2389 non-null   object        \n",
            " 23  CRM.Segment                     2385 non-null   float64       \n",
            " 24  School.Type                     2389 non-null   object        \n",
            " 25  Parent.Meeting.Flag             2389 non-null   float64       \n",
            " 26  MDR.Low.Grade                   2321 non-null   object        \n",
            " 27  MDR.High.Grade                  2321 non-null   float64       \n",
            " 28  Total.School.Enrollment         2298 non-null   float64       \n",
            " 29  Income.Level                    2327 non-null   object        \n",
            " 30  EZ.Pay.Take.Up.Rate             2389 non-null   float64       \n",
            " 31  School.Sponsor                  2389 non-null   float64       \n",
            " 32  SPR.Product.Type                2389 non-null   object        \n",
            " 33  SPR.New.Existing                2389 non-null   object        \n",
            " 34  FPP                             2389 non-null   float64       \n",
            " 35  Total.Pax                       2389 non-null   float64       \n",
            " 36  SPR.Group.Revenue               2389 non-null   float64       \n",
            " 37  NumberOfMeetingswithParents     2389 non-null   float64       \n",
            " 38  FirstMeeting                    2052 non-null   datetime64[ns]\n",
            " 39  LastMeeting                     2052 non-null   datetime64[ns]\n",
            " 40  DifferenceTraveltoFirstMeeting  2052 non-null   float64       \n",
            " 41  DifferenceTraveltoLastMeeting   2052 non-null   float64       \n",
            " 42  SchoolGradeTypeLow              2389 non-null   object        \n",
            " 43  SchoolGradeTypeHigh             2389 non-null   object        \n",
            " 44  SchoolGradeType                 2389 non-null   object        \n",
            " 45  DepartureMonth                  2389 non-null   object        \n",
            " 46  GroupGradeTypeLow               2389 non-null   object        \n",
            " 47  GroupGradeTypeHigh              2389 non-null   object        \n",
            " 48  GroupGradeType                  2389 non-null   object        \n",
            " 49  MajorProgramCode                2389 non-null   object        \n",
            " 50  SingleGradeTripFlag             2389 non-null   float64       \n",
            " 51  FPP.to.School.enrollment        2298 non-null   float64       \n",
            " 52  FPP.to.PAX                      2389 non-null   float64       \n",
            " 53  Num.of.Non_FPP.PAX              2389 non-null   float64       \n",
            " 54  SchoolSizeIndicator             2298 non-null   object        \n",
            " 55  Retained.in.2012.               2389 non-null   float64       \n",
            "dtypes: datetime64[ns](8), float64(28), object(20)\n",
            "memory usage: 1.0+ MB\n"
          ]
        },
        {
          "output_type": "execute_result",
          "data": {
            "text/plain": [
              "ID                                       float64\n",
              "Program.Code                              object\n",
              "From.Grade                               float64\n",
              "To.Grade                                 float64\n",
              "Group.State                               object\n",
              "Is.Non.Annual.                           float64\n",
              "Days                                     float64\n",
              "Travel.Type                               object\n",
              "Departure.Date                    datetime64[ns]\n",
              "Return.Date                       datetime64[ns]\n",
              "Deposit.Date                      datetime64[ns]\n",
              "Special.Pay                               object\n",
              "Tuition                                  float64\n",
              "FRP.Active                               float64\n",
              "FRP.Cancelled                            float64\n",
              "FRP.Take.up.percent.                     float64\n",
              "Early.RPL                         datetime64[ns]\n",
              "Latest.RPL                        datetime64[ns]\n",
              "Cancelled.Pax                            float64\n",
              "Total.Discount.Pax                       float64\n",
              "Initial.System.Date               datetime64[ns]\n",
              "Poverty.Code                              object\n",
              "Region                                    object\n",
              "CRM.Segment                              float64\n",
              "School.Type                               object\n",
              "Parent.Meeting.Flag                      float64\n",
              "MDR.Low.Grade                             object\n",
              "MDR.High.Grade                           float64\n",
              "Total.School.Enrollment                  float64\n",
              "Income.Level                              object\n",
              "EZ.Pay.Take.Up.Rate                      float64\n",
              "School.Sponsor                           float64\n",
              "SPR.Product.Type                          object\n",
              "SPR.New.Existing                          object\n",
              "FPP                                      float64\n",
              "Total.Pax                                float64\n",
              "SPR.Group.Revenue                        float64\n",
              "NumberOfMeetingswithParents              float64\n",
              "FirstMeeting                      datetime64[ns]\n",
              "LastMeeting                       datetime64[ns]\n",
              "DifferenceTraveltoFirstMeeting           float64\n",
              "DifferenceTraveltoLastMeeting            float64\n",
              "SchoolGradeTypeLow                        object\n",
              "SchoolGradeTypeHigh                       object\n",
              "SchoolGradeType                           object\n",
              "DepartureMonth                            object\n",
              "GroupGradeTypeLow                         object\n",
              "GroupGradeTypeHigh                        object\n",
              "GroupGradeType                            object\n",
              "MajorProgramCode                          object\n",
              "SingleGradeTripFlag                      float64\n",
              "FPP.to.School.enrollment                 float64\n",
              "FPP.to.PAX                               float64\n",
              "Num.of.Non_FPP.PAX                       float64\n",
              "SchoolSizeIndicator                       object\n",
              "Retained.in.2012.                        float64\n",
              "dtype: object"
            ]
          },
          "metadata": {},
          "execution_count": 6
        }
      ]
    },
    {
      "cell_type": "code",
      "source": [
        "df = df.rename(columns={\"Retained.in.2012.\":\"Retained_in_2012\"})"
      ],
      "metadata": {
        "id": "HkEhRZZFmze4"
      },
      "execution_count": 83,
      "outputs": []
    },
    {
      "cell_type": "code",
      "source": [
        "#Converting datatypes that should be categorical into \"category\"\n",
        "df['Program.Code'] = df['Program.Code'].astype('category')\n",
        "df['From.Grade'] = df['From.Grade'].astype('category')\n",
        "df['To.Grade'] = df['To.Grade'].astype('category')\n",
        "df['Is.Non.Annual.'] = df['Is.Non.Annual.'].astype('category')\n",
        "df['Parent.Meeting.Flag'] = df['Parent.Meeting.Flag'].astype('category')\n",
        "df['CRM.Segment'] = df['CRM.Segment'].astype('category')\n",
        "df['MDR.High.Grade'] = df['MDR.High.Grade'].astype('category')\n",
        "df['School.Sponsor'] = df['School.Sponsor'].astype('category')\n",
        "df['SingleGradeTripFlag'] = df['SingleGradeTripFlag'].astype('category')\n",
        "df['Program.Code'] = df['Program.Code'].astype('category')\n",
        "df['Group.State'] = df['Group.State'].astype('category')\n",
        "df['Travel.Type'] = df['Travel.Type'].astype('category')\n",
        "df['Special.Pay'] = df['Special.Pay'].astype('category')\n",
        "df['Poverty.Code'] = df['Poverty.Code'].astype('category')\n",
        "df['Region'] = df['Region'].astype('category')\n",
        "df['School.Type'] = df['School.Type'].astype('category')\n",
        "df['MDR.Low.Grade'] = df['MDR.Low.Grade'].astype('category')\n",
        "df['Income.Level'] = df['Income.Level'].astype('category')\n",
        "df['SPR.Product.Type'] = df['SPR.Product.Type'].astype('category')\n",
        "df['SPR.New.Existing'] = df['SPR.New.Existing'].astype('category')\n",
        "df['SchoolGradeTypeLow'] = df['SchoolGradeTypeLow'].astype('category')\n",
        "df['SchoolGradeTypeHigh'] = df['SchoolGradeTypeHigh'].astype('category')\n",
        "df['SchoolGradeType'] = df['SchoolGradeType'].astype('category')\n",
        "df['DepartureMonth'] = df['DepartureMonth'].astype('category')\n",
        "df['GroupGradeTypeLow'] = df['GroupGradeTypeLow'].astype('category')\n",
        "df['GroupGradeTypeHigh'] = df['GroupGradeTypeHigh'].astype('category')\n",
        "df['GroupGradeType'] = df['GroupGradeType'].astype('category')\n",
        "df['MajorProgramCode'] = df['MajorProgramCode'].astype('category')\n",
        "df['SchoolSizeIndicator'] = df['SchoolSizeIndicator'].astype('category')\n",
        "df['Retained_in_2012'] = df['Retained_in_2012'].astype('category')\n"
      ],
      "metadata": {
        "id": "MFluI4vQakzY"
      },
      "execution_count": 84,
      "outputs": []
    },
    {
      "cell_type": "code",
      "source": [
        "df.head()"
      ],
      "metadata": {
        "id": "QdK4Ag1fMUe3"
      },
      "execution_count": null,
      "outputs": []
    },
    {
      "cell_type": "code",
      "source": [
        "#Checking null values\n",
        "pd.DataFrame(df).isna().sum()"
      ],
      "metadata": {
        "id": "aPHpMVdQNS77"
      },
      "execution_count": null,
      "outputs": []
    },
    {
      "cell_type": "code",
      "source": [
        "#Dropping columns where missing data is more and date variable as it is redundant\n",
        "df1 = df.drop(columns=['ID','Special.Pay','Early.RPL','Latest.RPL','FirstMeeting','LastMeeting','DifferenceTraveltoFirstMeeting','DifferenceTraveltoLastMeeting'])"
      ],
      "metadata": {
        "id": "-NXMSuWgNw1w"
      },
      "execution_count": 85,
      "outputs": []
    },
    {
      "cell_type": "code",
      "source": [
        "df1.info()"
      ],
      "metadata": {
        "id": "NYB38DQiPB1a",
        "colab": {
          "base_uri": "https://localhost:8080/"
        },
        "outputId": "bc624fc1-a164-4921-abd9-760248f3450a"
      },
      "execution_count": 11,
      "outputs": [
        {
          "output_type": "stream",
          "name": "stdout",
          "text": [
            "<class 'pandas.core.frame.DataFrame'>\n",
            "RangeIndex: 2389 entries, 0 to 2388\n",
            "Data columns (total 48 columns):\n",
            " #   Column                       Non-Null Count  Dtype         \n",
            "---  ------                       --------------  -----         \n",
            " 0   Program.Code                 2389 non-null   category      \n",
            " 1   From.Grade                   2262 non-null   category      \n",
            " 2   To.Grade                     2239 non-null   category      \n",
            " 3   Group.State                  2389 non-null   category      \n",
            " 4   Is.Non.Annual.               2389 non-null   category      \n",
            " 5   Days                         2389 non-null   float64       \n",
            " 6   Travel.Type                  2389 non-null   category      \n",
            " 7   Departure.Date               2389 non-null   datetime64[ns]\n",
            " 8   Return.Date                  2389 non-null   datetime64[ns]\n",
            " 9   Deposit.Date                 2389 non-null   datetime64[ns]\n",
            " 10  Tuition                      2389 non-null   float64       \n",
            " 11  FRP.Active                   2389 non-null   float64       \n",
            " 12  FRP.Cancelled                2389 non-null   float64       \n",
            " 13  FRP.Take.up.percent.         2389 non-null   float64       \n",
            " 14  Cancelled.Pax                2389 non-null   float64       \n",
            " 15  Total.Discount.Pax           2389 non-null   float64       \n",
            " 16  Initial.System.Date          2381 non-null   datetime64[ns]\n",
            " 17  Poverty.Code                 1790 non-null   category      \n",
            " 18  Region                       2389 non-null   category      \n",
            " 19  CRM.Segment                  2385 non-null   category      \n",
            " 20  School.Type                  2389 non-null   category      \n",
            " 21  Parent.Meeting.Flag          2389 non-null   category      \n",
            " 22  MDR.Low.Grade                2321 non-null   category      \n",
            " 23  MDR.High.Grade               2321 non-null   category      \n",
            " 24  Total.School.Enrollment      2298 non-null   float64       \n",
            " 25  Income.Level                 2327 non-null   category      \n",
            " 26  EZ.Pay.Take.Up.Rate          2389 non-null   float64       \n",
            " 27  School.Sponsor               2389 non-null   category      \n",
            " 28  SPR.Product.Type             2389 non-null   category      \n",
            " 29  SPR.New.Existing             2389 non-null   category      \n",
            " 30  FPP                          2389 non-null   float64       \n",
            " 31  Total.Pax                    2389 non-null   float64       \n",
            " 32  SPR.Group.Revenue            2389 non-null   float64       \n",
            " 33  NumberOfMeetingswithParents  2389 non-null   float64       \n",
            " 34  SchoolGradeTypeLow           2389 non-null   category      \n",
            " 35  SchoolGradeTypeHigh          2389 non-null   category      \n",
            " 36  SchoolGradeType              2389 non-null   category      \n",
            " 37  DepartureMonth               2389 non-null   category      \n",
            " 38  GroupGradeTypeLow            2389 non-null   category      \n",
            " 39  GroupGradeTypeHigh           2389 non-null   category      \n",
            " 40  GroupGradeType               2389 non-null   category      \n",
            " 41  MajorProgramCode             2389 non-null   category      \n",
            " 42  SingleGradeTripFlag          2389 non-null   category      \n",
            " 43  FPP.to.School.enrollment     2298 non-null   float64       \n",
            " 44  FPP.to.PAX                   2389 non-null   float64       \n",
            " 45  Num.of.Non_FPP.PAX           2389 non-null   float64       \n",
            " 46  SchoolSizeIndicator          2298 non-null   category      \n",
            " 47  Retained_in_2012             2389 non-null   category      \n",
            "dtypes: category(28), datetime64[ns](4), float64(16)\n",
            "memory usage: 449.3 KB\n"
          ]
        }
      ]
    },
    {
      "cell_type": "markdown",
      "source": [
        "Replacing NA values with median for numerical varaibles"
      ],
      "metadata": {
        "id": "b-C_iH0vPcKu"
      }
    },
    {
      "cell_type": "code",
      "source": [
        "imputer = SimpleImputer(missing_values = np.nan, strategy='median')\n",
        "imputer.fit(df1.select_dtypes(include=['int64','float64']))\n",
        "df1[df1.select_dtypes(include=['int64','float64']).columns] = imputer.transform(df1.select_dtypes(include=['int64','float64']))"
      ],
      "metadata": {
        "id": "2j91m6HRPimE"
      },
      "execution_count": 86,
      "outputs": []
    },
    {
      "cell_type": "code",
      "source": [
        "pd.DataFrame(df1['Poverty.Code']).isna().sum()"
      ],
      "metadata": {
        "colab": {
          "base_uri": "https://localhost:8080/"
        },
        "id": "2N-9OEfh5hfL",
        "outputId": "e5f606b0-d014-418e-f093-da468afa9062"
      },
      "execution_count": 13,
      "outputs": [
        {
          "output_type": "execute_result",
          "data": {
            "text/plain": [
              "Poverty.Code    599\n",
              "dtype: int64"
            ]
          },
          "metadata": {},
          "execution_count": 13
        }
      ]
    },
    {
      "cell_type": "code",
      "source": [
        "df2=df1\n",
        "df2.head()"
      ],
      "metadata": {
        "id": "Nx5ucV948Tqt",
        "colab": {
          "base_uri": "https://localhost:8080/",
          "height": 317
        },
        "outputId": "4f8d17d7-05e5-4fea-c6c0-cdd77693b130"
      },
      "execution_count": 144,
      "outputs": [
        {
          "output_type": "execute_result",
          "data": {
            "text/plain": [
              "  Program.Code From.Grade To.Grade Group.State Is.Non.Annual.  Days  \\\n",
              "0           HS        4.0      4.0          CA            0.0   1.0   \n",
              "1           HC        8.0      8.0          AZ            0.0   7.0   \n",
              "2           HD        8.0      8.0          FL            0.0   3.0   \n",
              "3           HN        9.0     12.0          VA            1.0   3.0   \n",
              "4           HD        6.0      8.0          FL            0.0   6.0   \n",
              "\n",
              "  Travel.Type Departure.Date Return.Date Deposit.Date  ...  GroupGradeTypeLow  \\\n",
              "0           A     2011-01-14  2011-01-14   2010-08-30  ...                  K   \n",
              "1           A     2011-01-14  2011-01-21   2009-11-15  ...             Middle   \n",
              "2           A     2011-01-15  2011-01-17   2010-10-15  ...             Middle   \n",
              "3           B     2011-01-15  2011-01-17   2011-01-07  ...          Undefined   \n",
              "4           T     2011-01-16  2011-01-21   2010-09-30  ...             Middle   \n",
              "\n",
              "   GroupGradeTypeHigh        GroupGradeType  MajorProgramCode  \\\n",
              "0          Elementary         K->Elementary                 H   \n",
              "1              Middle        Middle->Middle                 H   \n",
              "2              Middle        Middle->Middle                 H   \n",
              "3           Undefined  Undefined->Undefined                 H   \n",
              "4              Middle        Middle->Middle                 H   \n",
              "\n",
              "   SingleGradeTripFlag  FPP.to.School.enrollment FPP.to.PAX  \\\n",
              "0                  1.0                  0.063646   0.936508   \n",
              "1                  1.0                  0.025882   0.880000   \n",
              "2                  1.0                  0.025131   0.888889   \n",
              "3                  0.0                  0.045256   1.000000   \n",
              "4                  0.0                  0.112500   0.910112   \n",
              "\n",
              "  Num.of.Non_FPP.PAX SchoolSizeIndicator Retained_in_2012  \n",
              "0                4.0                   L              1.0  \n",
              "1                3.0                   L              1.0  \n",
              "2                3.0                   L              1.0  \n",
              "3                0.0                 NaN              0.0  \n",
              "4                8.0                 M-L              0.0  \n",
              "\n",
              "[5 rows x 48 columns]"
            ],
            "text/html": [
              "\n",
              "  <div id=\"df-3969f3c1-1b2d-4e48-83b9-e48dcad75911\">\n",
              "    <div class=\"colab-df-container\">\n",
              "      <div>\n",
              "<style scoped>\n",
              "    .dataframe tbody tr th:only-of-type {\n",
              "        vertical-align: middle;\n",
              "    }\n",
              "\n",
              "    .dataframe tbody tr th {\n",
              "        vertical-align: top;\n",
              "    }\n",
              "\n",
              "    .dataframe thead th {\n",
              "        text-align: right;\n",
              "    }\n",
              "</style>\n",
              "<table border=\"1\" class=\"dataframe\">\n",
              "  <thead>\n",
              "    <tr style=\"text-align: right;\">\n",
              "      <th></th>\n",
              "      <th>Program.Code</th>\n",
              "      <th>From.Grade</th>\n",
              "      <th>To.Grade</th>\n",
              "      <th>Group.State</th>\n",
              "      <th>Is.Non.Annual.</th>\n",
              "      <th>Days</th>\n",
              "      <th>Travel.Type</th>\n",
              "      <th>Departure.Date</th>\n",
              "      <th>Return.Date</th>\n",
              "      <th>Deposit.Date</th>\n",
              "      <th>...</th>\n",
              "      <th>GroupGradeTypeLow</th>\n",
              "      <th>GroupGradeTypeHigh</th>\n",
              "      <th>GroupGradeType</th>\n",
              "      <th>MajorProgramCode</th>\n",
              "      <th>SingleGradeTripFlag</th>\n",
              "      <th>FPP.to.School.enrollment</th>\n",
              "      <th>FPP.to.PAX</th>\n",
              "      <th>Num.of.Non_FPP.PAX</th>\n",
              "      <th>SchoolSizeIndicator</th>\n",
              "      <th>Retained_in_2012</th>\n",
              "    </tr>\n",
              "  </thead>\n",
              "  <tbody>\n",
              "    <tr>\n",
              "      <th>0</th>\n",
              "      <td>HS</td>\n",
              "      <td>4.0</td>\n",
              "      <td>4.0</td>\n",
              "      <td>CA</td>\n",
              "      <td>0.0</td>\n",
              "      <td>1.0</td>\n",
              "      <td>A</td>\n",
              "      <td>2011-01-14</td>\n",
              "      <td>2011-01-14</td>\n",
              "      <td>2010-08-30</td>\n",
              "      <td>...</td>\n",
              "      <td>K</td>\n",
              "      <td>Elementary</td>\n",
              "      <td>K-&gt;Elementary</td>\n",
              "      <td>H</td>\n",
              "      <td>1.0</td>\n",
              "      <td>0.063646</td>\n",
              "      <td>0.936508</td>\n",
              "      <td>4.0</td>\n",
              "      <td>L</td>\n",
              "      <td>1.0</td>\n",
              "    </tr>\n",
              "    <tr>\n",
              "      <th>1</th>\n",
              "      <td>HC</td>\n",
              "      <td>8.0</td>\n",
              "      <td>8.0</td>\n",
              "      <td>AZ</td>\n",
              "      <td>0.0</td>\n",
              "      <td>7.0</td>\n",
              "      <td>A</td>\n",
              "      <td>2011-01-14</td>\n",
              "      <td>2011-01-21</td>\n",
              "      <td>2009-11-15</td>\n",
              "      <td>...</td>\n",
              "      <td>Middle</td>\n",
              "      <td>Middle</td>\n",
              "      <td>Middle-&gt;Middle</td>\n",
              "      <td>H</td>\n",
              "      <td>1.0</td>\n",
              "      <td>0.025882</td>\n",
              "      <td>0.880000</td>\n",
              "      <td>3.0</td>\n",
              "      <td>L</td>\n",
              "      <td>1.0</td>\n",
              "    </tr>\n",
              "    <tr>\n",
              "      <th>2</th>\n",
              "      <td>HD</td>\n",
              "      <td>8.0</td>\n",
              "      <td>8.0</td>\n",
              "      <td>FL</td>\n",
              "      <td>0.0</td>\n",
              "      <td>3.0</td>\n",
              "      <td>A</td>\n",
              "      <td>2011-01-15</td>\n",
              "      <td>2011-01-17</td>\n",
              "      <td>2010-10-15</td>\n",
              "      <td>...</td>\n",
              "      <td>Middle</td>\n",
              "      <td>Middle</td>\n",
              "      <td>Middle-&gt;Middle</td>\n",
              "      <td>H</td>\n",
              "      <td>1.0</td>\n",
              "      <td>0.025131</td>\n",
              "      <td>0.888889</td>\n",
              "      <td>3.0</td>\n",
              "      <td>L</td>\n",
              "      <td>1.0</td>\n",
              "    </tr>\n",
              "    <tr>\n",
              "      <th>3</th>\n",
              "      <td>HN</td>\n",
              "      <td>9.0</td>\n",
              "      <td>12.0</td>\n",
              "      <td>VA</td>\n",
              "      <td>1.0</td>\n",
              "      <td>3.0</td>\n",
              "      <td>B</td>\n",
              "      <td>2011-01-15</td>\n",
              "      <td>2011-01-17</td>\n",
              "      <td>2011-01-07</td>\n",
              "      <td>...</td>\n",
              "      <td>Undefined</td>\n",
              "      <td>Undefined</td>\n",
              "      <td>Undefined-&gt;Undefined</td>\n",
              "      <td>H</td>\n",
              "      <td>0.0</td>\n",
              "      <td>0.045256</td>\n",
              "      <td>1.000000</td>\n",
              "      <td>0.0</td>\n",
              "      <td>NaN</td>\n",
              "      <td>0.0</td>\n",
              "    </tr>\n",
              "    <tr>\n",
              "      <th>4</th>\n",
              "      <td>HD</td>\n",
              "      <td>6.0</td>\n",
              "      <td>8.0</td>\n",
              "      <td>FL</td>\n",
              "      <td>0.0</td>\n",
              "      <td>6.0</td>\n",
              "      <td>T</td>\n",
              "      <td>2011-01-16</td>\n",
              "      <td>2011-01-21</td>\n",
              "      <td>2010-09-30</td>\n",
              "      <td>...</td>\n",
              "      <td>Middle</td>\n",
              "      <td>Middle</td>\n",
              "      <td>Middle-&gt;Middle</td>\n",
              "      <td>H</td>\n",
              "      <td>0.0</td>\n",
              "      <td>0.112500</td>\n",
              "      <td>0.910112</td>\n",
              "      <td>8.0</td>\n",
              "      <td>M-L</td>\n",
              "      <td>0.0</td>\n",
              "    </tr>\n",
              "  </tbody>\n",
              "</table>\n",
              "<p>5 rows × 48 columns</p>\n",
              "</div>\n",
              "      <button class=\"colab-df-convert\" onclick=\"convertToInteractive('df-3969f3c1-1b2d-4e48-83b9-e48dcad75911')\"\n",
              "              title=\"Convert this dataframe to an interactive table.\"\n",
              "              style=\"display:none;\">\n",
              "        \n",
              "  <svg xmlns=\"http://www.w3.org/2000/svg\" height=\"24px\"viewBox=\"0 0 24 24\"\n",
              "       width=\"24px\">\n",
              "    <path d=\"M0 0h24v24H0V0z\" fill=\"none\"/>\n",
              "    <path d=\"M18.56 5.44l.94 2.06.94-2.06 2.06-.94-2.06-.94-.94-2.06-.94 2.06-2.06.94zm-11 1L8.5 8.5l.94-2.06 2.06-.94-2.06-.94L8.5 2.5l-.94 2.06-2.06.94zm10 10l.94 2.06.94-2.06 2.06-.94-2.06-.94-.94-2.06-.94 2.06-2.06.94z\"/><path d=\"M17.41 7.96l-1.37-1.37c-.4-.4-.92-.59-1.43-.59-.52 0-1.04.2-1.43.59L10.3 9.45l-7.72 7.72c-.78.78-.78 2.05 0 2.83L4 21.41c.39.39.9.59 1.41.59.51 0 1.02-.2 1.41-.59l7.78-7.78 2.81-2.81c.8-.78.8-2.07 0-2.86zM5.41 20L4 18.59l7.72-7.72 1.47 1.35L5.41 20z\"/>\n",
              "  </svg>\n",
              "      </button>\n",
              "      \n",
              "  <style>\n",
              "    .colab-df-container {\n",
              "      display:flex;\n",
              "      flex-wrap:wrap;\n",
              "      gap: 12px;\n",
              "    }\n",
              "\n",
              "    .colab-df-convert {\n",
              "      background-color: #E8F0FE;\n",
              "      border: none;\n",
              "      border-radius: 50%;\n",
              "      cursor: pointer;\n",
              "      display: none;\n",
              "      fill: #1967D2;\n",
              "      height: 32px;\n",
              "      padding: 0 0 0 0;\n",
              "      width: 32px;\n",
              "    }\n",
              "\n",
              "    .colab-df-convert:hover {\n",
              "      background-color: #E2EBFA;\n",
              "      box-shadow: 0px 1px 2px rgba(60, 64, 67, 0.3), 0px 1px 3px 1px rgba(60, 64, 67, 0.15);\n",
              "      fill: #174EA6;\n",
              "    }\n",
              "\n",
              "    [theme=dark] .colab-df-convert {\n",
              "      background-color: #3B4455;\n",
              "      fill: #D2E3FC;\n",
              "    }\n",
              "\n",
              "    [theme=dark] .colab-df-convert:hover {\n",
              "      background-color: #434B5C;\n",
              "      box-shadow: 0px 1px 3px 1px rgba(0, 0, 0, 0.15);\n",
              "      filter: drop-shadow(0px 1px 2px rgba(0, 0, 0, 0.3));\n",
              "      fill: #FFFFFF;\n",
              "    }\n",
              "  </style>\n",
              "\n",
              "      <script>\n",
              "        const buttonEl =\n",
              "          document.querySelector('#df-3969f3c1-1b2d-4e48-83b9-e48dcad75911 button.colab-df-convert');\n",
              "        buttonEl.style.display =\n",
              "          google.colab.kernel.accessAllowed ? 'block' : 'none';\n",
              "\n",
              "        async function convertToInteractive(key) {\n",
              "          const element = document.querySelector('#df-3969f3c1-1b2d-4e48-83b9-e48dcad75911');\n",
              "          const dataTable =\n",
              "            await google.colab.kernel.invokeFunction('convertToInteractive',\n",
              "                                                     [key], {});\n",
              "          if (!dataTable) return;\n",
              "\n",
              "          const docLinkHtml = 'Like what you see? Visit the ' +\n",
              "            '<a target=\"_blank\" href=https://colab.research.google.com/notebooks/data_table.ipynb>data table notebook</a>'\n",
              "            + ' to learn more about interactive tables.';\n",
              "          element.innerHTML = '';\n",
              "          dataTable['output_type'] = 'display_data';\n",
              "          await google.colab.output.renderOutput(dataTable, element);\n",
              "          const docLink = document.createElement('div');\n",
              "          docLink.innerHTML = docLinkHtml;\n",
              "          element.appendChild(docLink);\n",
              "        }\n",
              "      </script>\n",
              "    </div>\n",
              "  </div>\n",
              "  "
            ]
          },
          "metadata": {},
          "execution_count": 144
        }
      ]
    },
    {
      "cell_type": "code",
      "source": [
        "df2.info()"
      ],
      "metadata": {
        "id": "zbnXGyeNzXc9"
      },
      "execution_count": null,
      "outputs": []
    },
    {
      "cell_type": "code",
      "source": [
        "#Dropping character columns\n",
        "df2 = df2.drop(columns=[\"Program.Code\",\"Travel.Type\",\"Poverty.Code\",\"Group.State\",\"SchoolGradeType\",\"GroupGradeType\",\"Region\",\"School.Type\",\"MDR.Low.Grade\",\"MDR.High.Grade\",\n",
        "\"Income.Level\",\"SPR.Product.Type\",\"SPR.New.Existing\",\"SchoolGradeTypeLow\",\"SchoolGradeTypeHigh\",\"DepartureMonth\",\"GroupGradeTypeLow\",\n",
        "\"GroupGradeTypeHigh\",\"SchoolSizeIndicator\",\"MajorProgramCode\",\"Departure.Date\",\"Return.Date\",\"Deposit.Date\",\"Initial.System.Date\"])"
      ],
      "metadata": {
        "id": "7MuLRBNdyQNi"
      },
      "execution_count": 145,
      "outputs": []
    },
    {
      "cell_type": "code",
      "source": [
        "df2.dtypes"
      ],
      "metadata": {
        "id": "CbvuDWWg4xCA"
      },
      "execution_count": null,
      "outputs": []
    },
    {
      "cell_type": "code",
      "source": [
        "imputer = SimpleImputer(missing_values = np.nan, strategy='median')\n",
        "imputer.fit(df2.select_dtypes(exclude=['int64','float64']))\n",
        "df2[df2.select_dtypes(exclude=['int64','float64']).columns] = imputer.transform(df2.select_dtypes(exclude=['int64','float64']))"
      ],
      "metadata": {
        "id": "I3ZYJ1do4wP0"
      },
      "execution_count": 146,
      "outputs": []
    },
    {
      "cell_type": "markdown",
      "source": [
        "Decision Tree Classifier"
      ],
      "metadata": {
        "id": "XPXHTCjpHazz"
      }
    },
    {
      "cell_type": "code",
      "source": [
        "df2.head(n= 30)"
      ],
      "metadata": {
        "id": "xBu5-DYD1kYk"
      },
      "execution_count": null,
      "outputs": []
    },
    {
      "cell_type": "code",
      "source": [
        "#Defining the vector of target(y) and matrix of features(X)\n",
        "y = df2['Retained_in_2012']\n",
        "X = df2.drop(columns = 'Retained_in_2012')"
      ],
      "metadata": {
        "id": "dpI6xg3yHaW-"
      },
      "execution_count": 147,
      "outputs": []
    },
    {
      "cell_type": "markdown",
      "source": [
        "Setting seed and splitting the data 70% training and 30% testing"
      ],
      "metadata": {
        "id": "y5YeIx9sbc2-"
      }
    },
    {
      "cell_type": "code",
      "source": [
        "np.random.seed(1234)\n",
        "X_train, X_test, y_train, y_test = train_test_split(X, y, test_size = 0.30, stratify = y)\n",
        "print(\"X_train :\",X_train.shape)\n",
        "print(\"X_test :\",X_test.shape)\n",
        "print(\"y_train :\",y_train.shape)\n",
        "print(\"y_test :\",y_test.shape)"
      ],
      "metadata": {
        "colab": {
          "base_uri": "https://localhost:8080/"
        },
        "id": "7byFhxUfgww3",
        "outputId": "15ea0107-0ea8-401a-b98a-c59ffa869cd8"
      },
      "execution_count": 148,
      "outputs": [
        {
          "output_type": "stream",
          "name": "stdout",
          "text": [
            "X_train : (1672, 23)\n",
            "X_test : (717, 23)\n",
            "y_train : (1672,)\n",
            "y_test : (717,)\n"
          ]
        }
      ]
    },
    {
      "cell_type": "code",
      "source": [
        "classifier_DT = DecisionTreeClassifier(random_state=1234)\n",
        "#Train the model classifier on training data\n",
        "classifier_DT.fit(X_train, y_train)"
      ],
      "metadata": {
        "colab": {
          "base_uri": "https://localhost:8080/"
        },
        "id": "mtB9UQpzhQZH",
        "outputId": "6b5a2ce2-750a-4aac-a0d9-8c1c44fa5c1c"
      },
      "execution_count": 149,
      "outputs": [
        {
          "output_type": "execute_result",
          "data": {
            "text/plain": [
              "DecisionTreeClassifier(random_state=1234)"
            ]
          },
          "metadata": {},
          "execution_count": 149
        }
      ]
    },
    {
      "cell_type": "code",
      "source": [
        "#model for predicting values for training and testing data\n",
        "y_train_pred = classifier_DT.predict(X_train)\n",
        "y_test_pred = classifier_DT.predict(X_test)\n",
        "# accuracy score\n",
        "from sklearn.metrics import accuracy_score\n",
        "training_score= accuracy_score(y_train,y_train_pred )\n",
        "test_score= accuracy_score(y_test,y_test_pred )"
      ],
      "metadata": {
        "id": "OM19WCIwoqIO"
      },
      "execution_count": 150,
      "outputs": []
    },
    {
      "cell_type": "code",
      "source": [
        "#Training accuracy score\n",
        "# 100 percent accuracy means overfitting\n",
        "print(\"training_score:\" , training_score)\n",
        "# Testing accuracy score\n",
        "print(\"testing_score:\" ,test_score)"
      ],
      "metadata": {
        "id": "vCq39rqCo7EV",
        "colab": {
          "base_uri": "https://localhost:8080/"
        },
        "outputId": "6a318216-eb9a-48d0-b13f-41f6e28833a0"
      },
      "execution_count": 151,
      "outputs": [
        {
          "output_type": "stream",
          "name": "stdout",
          "text": [
            "training_score: 1.0\n",
            "testing_score: 0.6959553695955369\n"
          ]
        }
      ]
    },
    {
      "cell_type": "code",
      "source": [
        "#Plotting the confusion matrix for both training and testing data\n",
        "from sklearn.metrics import plot_confusion_matrix\n",
        "print(\"Confusion matrix for training data\")\n",
        "plot_confusion_matrix(classifier_DT, X_train, y_train) \n",
        "#For testing data\n",
        "print(\"Confusion matrix for testing data\")\n",
        "plot_confusion_matrix(classifier_DT, X_test, y_test)"
      ],
      "metadata": {
        "id": "TaAXbf_tpCvZ",
        "colab": {
          "base_uri": "https://localhost:8080/",
          "height": 685
        },
        "outputId": "38f53b2a-0067-410a-c6d5-5a816c4713e9"
      },
      "execution_count": 152,
      "outputs": [
        {
          "output_type": "stream",
          "name": "stdout",
          "text": [
            "Confusion matrix for training data\n",
            "Confusion matrix for testing data\n"
          ]
        },
        {
          "output_type": "stream",
          "name": "stderr",
          "text": [
            "/usr/local/lib/python3.8/dist-packages/sklearn/utils/deprecation.py:87: FutureWarning: Function plot_confusion_matrix is deprecated; Function `plot_confusion_matrix` is deprecated in 1.0 and will be removed in 1.2. Use one of the class methods: ConfusionMatrixDisplay.from_predictions or ConfusionMatrixDisplay.from_estimator.\n",
            "  warnings.warn(msg, category=FutureWarning)\n",
            "/usr/local/lib/python3.8/dist-packages/sklearn/utils/deprecation.py:87: FutureWarning: Function plot_confusion_matrix is deprecated; Function `plot_confusion_matrix` is deprecated in 1.0 and will be removed in 1.2. Use one of the class methods: ConfusionMatrixDisplay.from_predictions or ConfusionMatrixDisplay.from_estimator.\n",
            "  warnings.warn(msg, category=FutureWarning)\n"
          ]
        },
        {
          "output_type": "execute_result",
          "data": {
            "text/plain": [
              "<sklearn.metrics._plot.confusion_matrix.ConfusionMatrixDisplay at 0x7f65581d5610>"
            ]
          },
          "metadata": {},
          "execution_count": 152
        },
        {
          "output_type": "display_data",
          "data": {
            "text/plain": [
              "<Figure size 432x288 with 2 Axes>"
            ],
            "image/png": "[encoded data removed]"
          },
          "metadata": {
            "needs_background": "light"
          }
        },
        {
          "output_type": "display_data",
          "data": {
            "text/plain": [
              "<Figure size 432x288 with 2 Axes>"
            ],
            "image/png": "[encoded data removed]"
          },
          "metadata": {
            "needs_background": "light"
          }
        }
      ]
    },
    {
      "cell_type": "markdown",
      "source": [
        "Optimizing Decision Tree Performance using pre-pruning\n"
      ],
      "metadata": {
        "id": "APEJZxFhPJaR"
      }
    },
    {
      "cell_type": "code",
      "source": [
        "# Create Decision Tree classifer object\n",
        "optimize_clf = DecisionTreeClassifier(criterion=\"gini\", max_depth=3)\n",
        "\n",
        "# Train Decision Tree Classifer\n",
        "optimize_clf = optimize_clf.fit(X_train,y_train)\n",
        "\n",
        "#Predict the response for test dataset\n",
        "y_pred = optimize_clf.predict(X_test)\n",
        "\n",
        "# Model Accuracy, how often is the classifier correct?\n",
        "print(\"Accuracy:\",accuracy_score(y_test, y_pred))\n"
      ],
      "metadata": {
        "colab": {
          "base_uri": "https://localhost:8080/"
        },
        "id": "yqLBiYvgO-Zd",
        "outputId": "eddafce3-b21c-4ba3-9257-131f3927efc8"
      },
      "execution_count": 153,
      "outputs": [
        {
          "output_type": "stream",
          "name": "stdout",
          "text": [
            "Accuracy: 0.7740585774058577\n"
          ]
        }
      ]
    },
    {
      "cell_type": "markdown",
      "source": [
        "Random Forest"
      ],
      "metadata": {
        "id": "OXZddDaimBSM"
      }
    },
    {
      "cell_type": "code",
      "source": [
        "#Create a Random Forest Classifier\n",
        "rf_classifier = RandomForestClassifier(n_estimators=100)\n",
        "\n",
        "#Train the model using the training sets y_pred=clf.predict(X_test)\n",
        "rf_classifier.fit(X_train,y_train)\n",
        "\n",
        "y_pred=rf_classifier.predict(X_test)\n"
      ],
      "metadata": {
        "id": "U1X4UsgimDCT"
      },
      "execution_count": 154,
      "outputs": []
    },
    {
      "cell_type": "markdown",
      "source": [
        "After training, check the accuracy using actual and predicted values."
      ],
      "metadata": {
        "id": "YXQsBNa8vnFS"
      }
    },
    {
      "cell_type": "code",
      "source": [
        "# Model Accuracy, how often is the classifier correct?\n",
        "# metrics module is used for accuracy calculation\n",
        "print(\"Accuracy:\",accuracy_score(y_test, y_pred))\n"
      ],
      "metadata": {
        "colab": {
          "base_uri": "https://localhost:8080/"
        },
        "id": "qRNaohc_vndc",
        "outputId": "713e7358-0b8e-4f15-de13-c3f3dcf2463a"
      },
      "execution_count": 155,
      "outputs": [
        {
          "output_type": "stream",
          "name": "stdout",
          "text": [
            "Accuracy: 0.7656903765690377\n"
          ]
        }
      ]
    },
    {
      "cell_type": "markdown",
      "source": [
        "Finding Important Features: Creating random forest models with Gini impurity"
      ],
      "metadata": {
        "id": "ETlKlyGG3Fzy"
      }
    },
    {
      "cell_type": "code",
      "source": [
        "RandomForestClassifier(bootstrap=True, class_weight=None, criterion='gini',\n",
        "            max_depth=None, max_features='sqrt', max_leaf_nodes=None,\n",
        "            min_impurity_decrease=0.0, \n",
        "            min_samples_leaf=1, min_samples_split=2,\n",
        "            min_weight_fraction_leaf=0.0, n_estimators=100, n_jobs=1,\n",
        "            oob_score=False, random_state=None, verbose=0,\n",
        "            warm_start=False)\n"
      ],
      "metadata": {
        "colab": {
          "base_uri": "https://localhost:8080/"
        },
        "id": "rjFlUcZj3Bzl",
        "outputId": "9c843581-d048-4d39-8ef5-e5fe9ea23ec9"
      },
      "execution_count": 156,
      "outputs": [
        {
          "output_type": "execute_result",
          "data": {
            "text/plain": [
              "RandomForestClassifier(max_features='sqrt', n_jobs=1)"
            ]
          },
          "metadata": {},
          "execution_count": 156
        }
      ]
    },
    {
      "cell_type": "markdown",
      "source": [
        "Using the feature importance variable to see feature importance scores.\n"
      ],
      "metadata": {
        "id": "OTP2CJH53XXo"
      }
    },
    {
      "cell_type": "code",
      "source": [
        "import pandas as pd\n",
        "feature_imp = pd.Series(rf_classifier.feature_importances_,index=X.columns.values).sort_values(ascending=False)\n",
        "feature_imp"
      ],
      "metadata": {
        "colab": {
          "base_uri": "https://localhost:8080/"
        },
        "id": "Ot5DKmET3PCt",
        "outputId": "b5e52685-20f6-496f-b53c-b2c2dfe7fca0"
      },
      "execution_count": 157,
      "outputs": [
        {
          "output_type": "execute_result",
          "data": {
            "text/plain": [
              "SingleGradeTripFlag            0.098583\n",
              "Is.Non.Annual.                 0.079558\n",
              "Total.Pax                      0.067295\n",
              "Total.School.Enrollment        0.064065\n",
              "FPP.to.School.enrollment       0.061059\n",
              "FRP.Active                     0.059173\n",
              "FPP                            0.056847\n",
              "SPR.Group.Revenue              0.055173\n",
              "Tuition                        0.054424\n",
              "FRP.Take.up.percent.           0.050254\n",
              "FPP.to.PAX                     0.047162\n",
              "EZ.Pay.Take.Up.Rate            0.046521\n",
              "From.Grade                     0.043587\n",
              "Cancelled.Pax                  0.036018\n",
              "FRP.Cancelled                  0.031935\n",
              "To.Grade                       0.031642\n",
              "CRM.Segment                    0.026869\n",
              "Days                           0.022661\n",
              "Num.of.Non_FPP.PAX             0.021502\n",
              "Total.Discount.Pax             0.019869\n",
              "NumberOfMeetingswithParents    0.013281\n",
              "School.Sponsor                 0.008157\n",
              "Parent.Meeting.Flag            0.004367\n",
              "dtype: float64"
            ]
          },
          "metadata": {},
          "execution_count": 157
        }
      ]
    },
    {
      "cell_type": "markdown",
      "source": [
        "Visualize these scores using the seaborn library.\n"
      ],
      "metadata": {
        "id": "zEYawBct3ZvQ"
      }
    },
    {
      "cell_type": "code",
      "source": [
        "# Creating a bar plot\n",
        "sns.barplot(x=feature_imp, y=feature_imp.index)\n",
        "# Add labels to your graph\n",
        "plt.xlabel('Feature Importance Score')\n",
        "plt.ylabel('Features')\n",
        "plt.title(\"Visualizing Important Features\")\n",
        "plt.legend()\n",
        "plt.show()"
      ],
      "metadata": {
        "colab": {
          "base_uri": "https://localhost:8080/",
          "height": 312
        },
        "id": "ozDldJYy3r76",
        "outputId": "9039f90d-8ba3-460c-d94b-cc35193f0809"
      },
      "execution_count": 158,
      "outputs": [
        {
          "output_type": "stream",
          "name": "stderr",
          "text": [
            "WARNING:matplotlib.legend:No handles with labels found to put in legend.\n"
          ]
        },
        {
          "output_type": "display_data",
          "data": {
            "text/plain": [
              "<Figure size 432x288 with 1 Axes>"
            ],
            "image/png": "[encoded data removed]"
          },
          "metadata": {
            "needs_background": "light"
          }
        }
      ]
    },
    {
      "cell_type": "markdown",
      "source": [
        "Generating the Model on Selected Features"
      ],
      "metadata": {
        "id": "GTOAZhLC7IQ3"
      }
    },
    {
      "cell_type": "code",
      "source": [
        "df3 = df2"
      ],
      "metadata": {
        "id": "kXvUDCSG77ba"
      },
      "execution_count": 159,
      "outputs": []
    },
    {
      "cell_type": "markdown",
      "source": [
        "Dropping columns whose feature important score is less than 0.040"
      ],
      "metadata": {
        "id": "DUPmg2EMaXvA"
      }
    },
    {
      "cell_type": "code",
      "source": [
        "df3 = df3.drop(columns=[\"Parent.Meeting.Flag\",\"School.Sponsor\",\"NumberOfMeetingswithParents\",\"Days\",\"Total.Discount.Pax\",\"Num.of.Non_FPP.PAX\",\n",
        "                        \"CRM.Segment\",\"FRP.Cancelled\",\"Cancelled.Pax\"])"
      ],
      "metadata": {
        "id": "gUEK6qjE7-nW"
      },
      "execution_count": 160,
      "outputs": []
    },
    {
      "cell_type": "code",
      "source": [
        "# Split dataset into features and labels\n",
        "y = df3['Retained_in_2012']\n",
        "X = df3.drop(columns = 'Retained_in_2012')                                  \n",
        "# Split dataset into training set and test set\n",
        "X_train, X_test, y_train, y_test = train_test_split(X, y, test_size=0.30, random_state=5) # 70% training and 30% test\n"
      ],
      "metadata": {
        "id": "yD5J6Ib_7Krr"
      },
      "execution_count": 161,
      "outputs": []
    },
    {
      "cell_type": "markdown",
      "source": [
        "After spliting, you will generate a model on the selected training set feature."
      ],
      "metadata": {
        "id": "VPAgVpeQ8nZ0"
      }
    },
    {
      "cell_type": "code",
      "source": [
        "#Create a Random Forest Classifier\n",
        "clf=RandomForestClassifier(n_estimators=100)\n",
        "\n",
        "#Train the model using the training sets y_pred=clf.predict(X_test)\n",
        "clf.fit(X_train,y_train)\n",
        "\n",
        "# performing predictions on the selected test set features\n",
        "y_pred=clf.predict(X_test)\n",
        "\n",
        "#Import scikit-learn metrics module for accuracy calculation\n",
        "from sklearn import metrics\n",
        "# Model Accuracy, compare actual and predicted values\n",
        "print(\"Accuracy:\",metrics.accuracy_score(y_test, y_pred))\n"
      ],
      "metadata": {
        "colab": {
          "base_uri": "https://localhost:8080/"
        },
        "id": "SJ3IKvYt8oa0",
        "outputId": "ecf2547a-5608-432e-d7f7-c7532341574a"
      },
      "execution_count": 162,
      "outputs": [
        {
          "output_type": "stream",
          "name": "stdout",
          "text": [
            "Accuracy: 0.7740585774058577\n"
          ]
        }
      ]
    }
  ]
}